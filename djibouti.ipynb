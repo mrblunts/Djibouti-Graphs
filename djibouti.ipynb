{
 "cells": [
  {
   "cell_type": "code",
   "execution_count": 3,
   "id": "0edb00de",
   "metadata": {},
   "outputs": [],
   "source": [
    "import matplotlib.pyplot as plt\n",
    "import numpy as np\n",
    "\n",
    "# === Graph 1: Population Affected by Drought ===\n",
    "years = [2018, 2019, 2020, 2021, 2022]\n",
    "drought_population = [50000, 80000, 100000, 120000, 170000]\n",
    "\n",
    "plt.figure(figsize=(8,5))\n",
    "plt.plot(years, drought_population, marker='o', linewidth=2, color=\"darkblue\")\n",
    "plt.title(\"Population Affected by Drought in Djibouti (2018-2022)\")\n",
    "plt.xlabel(\"Year\")\n",
    "plt.ylabel(\"People Affected\")\n",
    "plt.grid(True)\n",
    "plt.tight_layout()\n",
    "plt.savefig(\"Population_Affected_Drought.png\")\n",
    "plt.close()\n",
    "\n",
    "\n",
    "# === Graph 2: Renewable Water vs Demand ===\n",
    "years = [2000, 2010, 2020]\n",
    "renewable_water = [0.3, 0.25, 0.2]  # Billion cubic meters\n",
    "demand = [0.25, 0.35, 0.45]        # Billion cubic meters\n",
    "\n",
    "x = np.arange(len(years))\n",
    "width = 0.35\n",
    "\n",
    "plt.figure(figsize=(8,5))\n",
    "plt.bar(x - width/2, renewable_water, width, label='Renewable Water (BCM)', color=\"skyblue\")\n",
    "plt.bar(x + width/2, demand, width, label='Demand (BCM)', color=\"salmon\")\n",
    "plt.xticks(x, years)\n",
    "plt.title(\"Renewable Water Resources vs Demand in Djibouti\")\n",
    "plt.xlabel(\"Year\")\n",
    "plt.ylabel(\"Billion Cubic Meters\")\n",
    "plt.legend()\n",
    "plt.tight_layout()\n",
    "plt.savefig(\"Water_Resources_vs_Demand.png\")\n",
    "plt.close()\n",
    "\n",
    "\n",
    "# === Graph 3: Strategic Opportunities ===\n",
    "categories = [\"Community Infra\", \"Institutional Systems\", \"Climate Planning\", \"Vulnerable Groups\"]\n",
    "current_status = [40, 30, 25, 35]\n",
    "desired_status = [100, 100, 100, 100]\n",
    "\n",
    "x = np.arange(len(categories))\n",
    "width = 0.35\n",
    "\n",
    "plt.figure(figsize=(9,6))\n",
    "plt.bar(x - width/2, current_status, width, label='Current Progress (%)', color=\"orange\")\n",
    "plt.bar(x + width/2, desired_status, width, label='Target (%)', color=\"green\")\n",
    "plt.xticks(x, categories, rotation=20)\n",
    "plt.title(\"Strategic Opportunities Progress in Djibouti (Indicative)\")\n",
    "plt.ylabel(\"Progress (%)\")\n",
    "plt.legend()\n",
    "plt.tight_layout()\n",
    "plt.savefig(\"Strategic_Opportunities.png\")\n",
    "plt.close()\n"
   ]
  },
  {
   "cell_type": "code",
   "execution_count": 2,
   "id": "dff20e4f",
   "metadata": {},
   "outputs": [
    {
     "name": "stdout",
     "output_type": "stream",
     "text": [
      "Requirement already satisfied: matplotlib in /Users/abdilahimohamed/micromamba/envs/my_scanpy_env/lib/python3.8/site-packages (3.7.2)\n",
      "Requirement already satisfied: numpy in /Users/abdilahimohamed/micromamba/envs/my_scanpy_env/lib/python3.8/site-packages (1.22.4)\n",
      "Requirement already satisfied: contourpy>=1.0.1 in /Users/abdilahimohamed/micromamba/envs/my_scanpy_env/lib/python3.8/site-packages (from matplotlib) (1.0.5)\n",
      "Requirement already satisfied: cycler>=0.10 in /Users/abdilahimohamed/micromamba/envs/my_scanpy_env/lib/python3.8/site-packages (from matplotlib) (0.12.1)\n",
      "Requirement already satisfied: fonttools>=4.22.0 in /Users/abdilahimohamed/micromamba/envs/my_scanpy_env/lib/python3.8/site-packages (from matplotlib) (4.25.0)\n",
      "Requirement already satisfied: kiwisolver>=1.0.1 in /Users/abdilahimohamed/micromamba/envs/my_scanpy_env/lib/python3.8/site-packages (from matplotlib) (1.3.2)\n",
      "Requirement already satisfied: packaging>=20.0 in /Users/abdilahimohamed/micromamba/envs/my_scanpy_env/lib/python3.8/site-packages (from matplotlib) (23.2)\n",
      "Requirement already satisfied: pillow>=6.2.0 in /Users/abdilahimohamed/micromamba/envs/my_scanpy_env/lib/python3.8/site-packages (from matplotlib) (8.3.2)\n",
      "Requirement already satisfied: pyparsing<3.1,>=2.3.1 in /Users/abdilahimohamed/micromamba/envs/my_scanpy_env/lib/python3.8/site-packages (from matplotlib) (3.0.9)\n",
      "Requirement already satisfied: python-dateutil>=2.7 in /Users/abdilahimohamed/micromamba/envs/my_scanpy_env/lib/python3.8/site-packages (from matplotlib) (2.8.2)\n",
      "Requirement already satisfied: importlib-resources>=3.2.0 in /Users/abdilahimohamed/micromamba/envs/my_scanpy_env/lib/python3.8/site-packages (from matplotlib) (6.1.1)\n",
      "Requirement already satisfied: zipp>=3.1.0 in /Users/abdilahimohamed/micromamba/envs/my_scanpy_env/lib/python3.8/site-packages (from importlib-resources>=3.2.0->matplotlib) (3.17.0)\n",
      "Requirement already satisfied: six>=1.5 in /Users/abdilahimohamed/micromamba/envs/my_scanpy_env/lib/python3.8/site-packages (from python-dateutil>=2.7->matplotlib) (1.16.0)\n"
     ]
    }
   ],
   "source": [
    "!pip install matplotlib numpy\n"
   ]
  }
 ],
 "metadata": {
  "kernelspec": {
   "display_name": "my_scanpy_env",
   "language": "python",
   "name": "python3"
  },
  "language_info": {
   "codemirror_mode": {
    "name": "ipython",
    "version": 3
   },
   "file_extension": ".py",
   "mimetype": "text/x-python",
   "name": "python",
   "nbconvert_exporter": "python",
   "pygments_lexer": "ipython3",
   "version": "3.8.18"
  }
 },
 "nbformat": 4,
 "nbformat_minor": 5
}
